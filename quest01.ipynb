{
  "nbformat": 4,
  "nbformat_minor": 0,
  "metadata": {
    "colab": {
      "provenance": [],
      "include_colab_link": true
    },
    "kernelspec": {
      "name": "python3",
      "display_name": "Python 3"
    },
    "language_info": {
      "name": "python"
    }
  },
  "cells": [
    {
      "cell_type": "markdown",
      "metadata": {
        "id": "view-in-github",
        "colab_type": "text"
      },
      "source": [
        "<a href=\"https://colab.research.google.com/github/NeatyNut/Aiffel_online_quest_review/blob/main/quest01.ipynb\" target=\"_parent\"><img src=\"https://colab.research.google.com/assets/colab-badge.svg\" alt=\"Open In Colab\"/></a>"
      ]
    },
    {
      "cell_type": "code",
      "execution_count": null,
      "metadata": {
        "id": "oy43-ODt7YeS",
        "outputId": "ef66fa38-6523-4757-de4c-b5b25944828d",
        "colab": {
          "base_uri": "https://localhost:8080/"
        }
      },
      "outputs": [
        {
          "output_type": "stream",
          "name": "stdout",
          "text": [
            "입력된 단어는:우영우\n",
            "뒤집힌 단어는:우영우\n",
            "입력된 단어는 회문입니다.\n"
          ]
        }
      ],
      "source": [
        "a = input('입력된 단어는:')\n",
        "b = a[::-1]\n",
        "print('뒤집힌 단어는:'+b)\n",
        "def retur_n(a):\n",
        "  if a == b :\n",
        "    print(\"입력된 단어는 회문입니다.\")\n",
        "  else:\n",
        "    print('입력된 단어는 회문이 아닙니다.')\n",
        "retur_n(a)\n",
        "\n",
        "# if list(a) == list(reversed(a)) :\n",
        "#   print('입력된 단어는 회문 입니다.')\n",
        "# else :\n",
        "#   print('입력된 단어는 회문이 아닙니다.')"
      ]
    },
    {
      "cell_type": "code",
      "source": [
        "word = input('입력하세요.')\n",
        "\n",
        "reversed_word = ''\n",
        "for i in word:\n",
        "    reversed_word = i + reversed_word\n",
        "    print(reversed_word)\n",
        "\n",
        "if word == reversed_word :\n",
        "   print('회문')\n",
        "else :\n",
        "    print('not 회문')"
      ],
      "metadata": {
        "id": "s9tcL4gZjeOo",
        "outputId": "7b216cc5-27ce-4ed8-805e-e776beb6751c",
        "colab": {
          "base_uri": "https://localhost:8080/"
        }
      },
      "execution_count": null,
      "outputs": [
        {
          "output_type": "stream",
          "name": "stdout",
          "text": [
            "입력하세요.123\n",
            "1\n",
            "21\n",
            "321\n",
            "not 회문\n"
          ]
        }
      ]
    },
    {
      "cell_type": "markdown",
      "source": [
        "1. 주어진 문제를 해결하는 코드가 맞습니다.\n",
        "2. 주석은 처음이라 따로 달리진 않았지만, 코드 자체로 이해하는데에 큰 어려움이 없습니다.\n",
        "3. 두가지 방식으로 시도한 점으로 보아, 추가 실험을 잘 진행한 것으로 보입니다.\n",
        "4. 하시는데 크게 어려움이 없으셔서 아쉬움은 따로 없으셨던 것으로 보입니다.\n",
        "5. input함수까지 def로 씌워서 사용하였으면 좋았을 것이라고 생각됩니다."
      ],
      "metadata": {
        "id": "NwcmaD7i4rdT"
      }
    }
  ]
}